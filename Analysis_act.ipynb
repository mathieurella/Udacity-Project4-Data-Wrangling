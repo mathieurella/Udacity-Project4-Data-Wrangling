{
 "cells": [
  {
   "cell_type": "markdown",
   "metadata": {},
   "source": [
    "# Data Analysis\n",
    "##  Project : We Rate Dogs "
   ]
  },
  {
   "cell_type": "code",
   "execution_count": 2,
   "metadata": {},
   "outputs": [],
   "source": [
    "import pandas as pd\n",
    "import numpy as np\n",
    "import matplotlib.pyplot as plt\n",
    "%matplotlib inline\n",
    "\n",
    "import seaborn as sns\n",
    "sns.set(style=\"darkgrid\")"
   ]
  },
  {
   "cell_type": "markdown",
   "metadata": {},
   "source": [
    "Read and check the twitter_archive_master table"
   ]
  },
  {
   "cell_type": "code",
   "execution_count": 3,
   "metadata": {},
   "outputs": [
    {
     "data": {
      "text/html": [
       "<div>\n",
       "<style scoped>\n",
       "    .dataframe tbody tr th:only-of-type {\n",
       "        vertical-align: middle;\n",
       "    }\n",
       "\n",
       "    .dataframe tbody tr th {\n",
       "        vertical-align: top;\n",
       "    }\n",
       "\n",
       "    .dataframe thead th {\n",
       "        text-align: right;\n",
       "    }\n",
       "</style>\n",
       "<table border=\"1\" class=\"dataframe\">\n",
       "  <thead>\n",
       "    <tr style=\"text-align: right;\">\n",
       "      <th></th>\n",
       "      <th>tweet_id</th>\n",
       "      <th>timestamp</th>\n",
       "      <th>source</th>\n",
       "      <th>text</th>\n",
       "      <th>expanded_urls</th>\n",
       "      <th>rating_numerator</th>\n",
       "      <th>rating_denominator</th>\n",
       "      <th>name</th>\n",
       "      <th>stage</th>\n",
       "      <th>confidence</th>\n",
       "      <th>breed</th>\n",
       "      <th>isdog?</th>\n",
       "      <th>favorite</th>\n",
       "      <th>retweet</th>\n",
       "    </tr>\n",
       "  </thead>\n",
       "  <tbody>\n",
       "    <tr>\n",
       "      <th>0</th>\n",
       "      <td>890240255349198849</td>\n",
       "      <td>2017-07-26 15:59:51</td>\n",
       "      <td>Twitter for iPhone</td>\n",
       "      <td>This is Cassie. She is a college pup. Studying...</td>\n",
       "      <td>https://twitter.com/dog_rates/status/890240255...</td>\n",
       "      <td>14</td>\n",
       "      <td>10</td>\n",
       "      <td>Cassie</td>\n",
       "      <td>doggo</td>\n",
       "      <td>0.511319</td>\n",
       "      <td>Pembroke</td>\n",
       "      <td>True</td>\n",
       "      <td>29978.0</td>\n",
       "      <td>6725.0</td>\n",
       "    </tr>\n",
       "    <tr>\n",
       "      <th>1</th>\n",
       "      <td>884162670584377345</td>\n",
       "      <td>2017-07-09 21:29:42</td>\n",
       "      <td>Twitter for iPhone</td>\n",
       "      <td>Meet Yogi. He doesn't have any important dog m...</td>\n",
       "      <td>https://twitter.com/dog_rates/status/884162670...</td>\n",
       "      <td>12</td>\n",
       "      <td>10</td>\n",
       "      <td>Yogi</td>\n",
       "      <td>doggo</td>\n",
       "      <td>0.707046</td>\n",
       "      <td>German Shepherd</td>\n",
       "      <td>True</td>\n",
       "      <td>19210.0</td>\n",
       "      <td>2740.0</td>\n",
       "    </tr>\n",
       "    <tr>\n",
       "      <th>2</th>\n",
       "      <td>871515927908634625</td>\n",
       "      <td>2017-06-04 23:56:03</td>\n",
       "      <td>Twitter for iPhone</td>\n",
       "      <td>This is Napolean. He's a Raggedy East Nicaragu...</td>\n",
       "      <td>https://twitter.com/dog_rates/status/871515927...</td>\n",
       "      <td>12</td>\n",
       "      <td>10</td>\n",
       "      <td>Napolean</td>\n",
       "      <td>doggo</td>\n",
       "      <td>0.974781</td>\n",
       "      <td>Komondor</td>\n",
       "      <td>True</td>\n",
       "      <td>19134.0</td>\n",
       "      <td>3228.0</td>\n",
       "    </tr>\n",
       "    <tr>\n",
       "      <th>3</th>\n",
       "      <td>869596645499047938</td>\n",
       "      <td>2017-05-30 16:49:31</td>\n",
       "      <td>Twitter for iPhone</td>\n",
       "      <td>This is Scout. He just graduated. Officially a...</td>\n",
       "      <td>https://twitter.com/dog_rates/status/869596645...</td>\n",
       "      <td>12</td>\n",
       "      <td>10</td>\n",
       "      <td>Scout</td>\n",
       "      <td>doggo</td>\n",
       "      <td>0.955156</td>\n",
       "      <td>Chihuahua</td>\n",
       "      <td>True</td>\n",
       "      <td>15209.0</td>\n",
       "      <td>2913.0</td>\n",
       "    </tr>\n",
       "    <tr>\n",
       "      <th>4</th>\n",
       "      <td>846514051647705089</td>\n",
       "      <td>2017-03-28 00:07:32</td>\n",
       "      <td>Twitter for iPhone</td>\n",
       "      <td>This is Barney. He's an elder doggo. Hitches a...</td>\n",
       "      <td>https://twitter.com/dog_rates/status/846514051...</td>\n",
       "      <td>13</td>\n",
       "      <td>10</td>\n",
       "      <td>Barney</td>\n",
       "      <td>doggo</td>\n",
       "      <td>0.650003</td>\n",
       "      <td>Golden Retriever</td>\n",
       "      <td>True</td>\n",
       "      <td>44360.0</td>\n",
       "      <td>11451.0</td>\n",
       "    </tr>\n",
       "  </tbody>\n",
       "</table>\n",
       "</div>"
      ],
      "text/plain": [
       "             tweet_id            timestamp              source  \\\n",
       "0  890240255349198849  2017-07-26 15:59:51  Twitter for iPhone   \n",
       "1  884162670584377345  2017-07-09 21:29:42  Twitter for iPhone   \n",
       "2  871515927908634625  2017-06-04 23:56:03  Twitter for iPhone   \n",
       "3  869596645499047938  2017-05-30 16:49:31  Twitter for iPhone   \n",
       "4  846514051647705089  2017-03-28 00:07:32  Twitter for iPhone   \n",
       "\n",
       "                                                text  \\\n",
       "0  This is Cassie. She is a college pup. Studying...   \n",
       "1  Meet Yogi. He doesn't have any important dog m...   \n",
       "2  This is Napolean. He's a Raggedy East Nicaragu...   \n",
       "3  This is Scout. He just graduated. Officially a...   \n",
       "4  This is Barney. He's an elder doggo. Hitches a...   \n",
       "\n",
       "                                       expanded_urls  rating_numerator  \\\n",
       "0  https://twitter.com/dog_rates/status/890240255...                14   \n",
       "1  https://twitter.com/dog_rates/status/884162670...                12   \n",
       "2  https://twitter.com/dog_rates/status/871515927...                12   \n",
       "3  https://twitter.com/dog_rates/status/869596645...                12   \n",
       "4  https://twitter.com/dog_rates/status/846514051...                13   \n",
       "\n",
       "   rating_denominator      name  stage  confidence             breed  isdog?  \\\n",
       "0                  10    Cassie  doggo    0.511319          Pembroke    True   \n",
       "1                  10      Yogi  doggo    0.707046   German Shepherd    True   \n",
       "2                  10  Napolean  doggo    0.974781          Komondor    True   \n",
       "3                  10     Scout  doggo    0.955156         Chihuahua    True   \n",
       "4                  10    Barney  doggo    0.650003  Golden Retriever    True   \n",
       "\n",
       "   favorite  retweet  \n",
       "0   29978.0   6725.0  \n",
       "1   19210.0   2740.0  \n",
       "2   19134.0   3228.0  \n",
       "3   15209.0   2913.0  \n",
       "4   44360.0  11451.0  "
      ]
     },
     "execution_count": 3,
     "metadata": {},
     "output_type": "execute_result"
    }
   ],
   "source": [
    "df = pd.read_csv('twitter_archive_master.csv')\n",
    "df.head()"
   ]
  },
  {
   "cell_type": "code",
   "execution_count": 4,
   "metadata": {},
   "outputs": [
    {
     "name": "stdout",
     "output_type": "stream",
     "text": [
      "<class 'pandas.core.frame.DataFrame'>\n",
      "RangeIndex: 1341 entries, 0 to 1340\n",
      "Data columns (total 14 columns):\n",
      "tweet_id              1341 non-null int64\n",
      "timestamp             1341 non-null object\n",
      "source                1341 non-null object\n",
      "text                  1341 non-null object\n",
      "expanded_urls         1341 non-null object\n",
      "rating_numerator      1341 non-null int64\n",
      "rating_denominator    1341 non-null int64\n",
      "name                  1341 non-null object\n",
      "stage                 1341 non-null object\n",
      "confidence            1341 non-null float64\n",
      "breed                 1341 non-null object\n",
      "isdog?                1341 non-null bool\n",
      "favorite              1341 non-null float64\n",
      "retweet               1341 non-null float64\n",
      "dtypes: bool(1), float64(3), int64(3), object(7)\n",
      "memory usage: 137.6+ KB\n"
     ]
    }
   ],
   "source": [
    "df.info()"
   ]
  },
  {
   "cell_type": "markdown",
   "metadata": {},
   "source": [
    "As state in the project details section At least three (3) insights and one (1) visualization must be produced.\n",
    "I'll try my best to be as exhaustive as possible"
   ]
  },
  {
   "cell_type": "markdown",
   "metadata": {},
   "source": [
    "### DATA to be analysed and Questions to be answered\n",
    "\n",
    "In the wrangle act we have the opportunity to gather, assess, clean and merge several data source, over 1341 tweet are now represented and many questions remain unanswered.\n",
    "First of all I would like to analyse the data in the simplest possible way :\n",
    "- tweet with the most favorite\n",
    "- tweet with the most retweet\n",
    "- spread of the ratings\n",
    "- favorite breeds\n",
    "\n",
    "before establishing further correlations...\n",
    "\n",
    "- does the rating influence the favorite or retweet\n",
    "- does the favorite and retweet are correlated\n",
    "- Does some breed are more successfull than other\n"
   ]
  },
  {
   "cell_type": "markdown",
   "metadata": {},
   "source": [
    "### Distribution of the stage"
   ]
  },
  {
   "cell_type": "markdown",
   "metadata": {},
   "source": [
    "Most of the dataset is populated with 'None' stage, in order not to be too result-oriented, we will not take this value into account."
   ]
  },
  {
   "cell_type": "code",
   "execution_count": 8,
   "metadata": {},
   "outputs": [
    {
     "data": {
      "text/plain": [
       "Text(0.5,1,'Distribution of Dog Stage')"
      ]
     },
     "execution_count": 8,
     "metadata": {},
     "output_type": "execute_result"
    },
    {
     "data": {
      "image/png": "[encoded data removed]",
      "text/plain": [
       "<matplotlib.figure.Figure at 0x7f8b4c4f84a8>"
      ]
     },
     "metadata": {},
     "output_type": "display_data"
    }
   ],
   "source": [
    "no_none = df.query(\"stage != 'None'\")\n",
    "stage = no_none['stage'].value_counts()\n",
    "explode = (0.1, 0.1, 0.1, 0.1)\n",
    "labels = stage.index.tolist()\n",
    "\n",
    "plt.figure(figsize = (7, 7))\n",
    "plt.pie(stage, labels = labels, autopct='%1.1f%%', explode = explode)\n",
    "plt.title('Distribution of Dog Stage')"
   ]
  },
  {
   "cell_type": "markdown",
   "metadata": {},
   "source": [
    "This pie chart show us the stage distribution of the dataset with over 67% of pupper tweet"
   ]
  },
  {
   "cell_type": "markdown",
   "metadata": {},
   "source": [
    "### Average stage rating"
   ]
  },
  {
   "cell_type": "code",
   "execution_count": 9,
   "metadata": {},
   "outputs": [
    {
     "data": {
      "text/plain": [
       "Text(0.5,1,'Average Rating of Dog Stage')"
      ]
     },
     "execution_count": 9,
     "metadata": {},
     "output_type": "execute_result"
    },
    {
     "data": {
      "image/png": "[encoded data removed]",
      "text/plain": [
       "<matplotlib.figure.Figure at 0x7f8b196604a8>"
      ]
     },
     "metadata": {
      "needs_background": "light"
     },
     "output_type": "display_data"
    }
   ],
   "source": [
    "rating_stage = no_none.groupby('stage')['rating_numerator'].mean()\n",
    "x_stage = rating_stage.index.tolist()\n",
    "\n",
    "\n",
    "plt.figure(figsize = (18, 5))\n",
    "plt.plot(x_stage, rating_stage)\n",
    "plt.title('Average Rating of Dog Stage')"
   ]
  },
  {
   "cell_type": "markdown",
   "metadata": {},
   "source": [
    "The delta in the rating is only of 1.75, which is surprising because the dataset is populated for 67% of pupper and only 22% of doggo.\n",
    "At first sight I would admit a bigger difference in ratings"
   ]
  },
  {
   "cell_type": "markdown",
   "metadata": {},
   "source": [
    "### Distribution of the Top 10 Breed"
   ]
  },
  {
   "cell_type": "code",
   "execution_count": 10,
   "metadata": {},
   "outputs": [
    {
     "data": {
      "text/plain": [
       "Text(0.5,1,'Top 10 Most Represented Dog Breed')"
      ]
     },
     "execution_count": 10,
     "metadata": {},
     "output_type": "execute_result"
    },
    {
     "data": {
      "image/png": "[encoded data removed]",
      "text/plain": [
       "<matplotlib.figure.Figure at 0x7f8b45154e10>"
      ]
     },
     "metadata": {
      "needs_background": "light"
     },
     "output_type": "display_data"
    }
   ],
   "source": [
    "plt.figure(figsize = (18, 5))\n",
    "top10 = df['breed'].value_counts().head(10)\n",
    "x_top = top10.index.tolist()\n",
    "plt.bar(x_top, top10, color='green')\n",
    "plt.title('Top 10 Most Represented Dog Breed')"
   ]
  },
  {
   "cell_type": "markdown",
   "metadata": {},
   "source": [
    "### Average Breed Rating"
   ]
  },
  {
   "cell_type": "markdown",
   "metadata": {},
   "source": [
    "In this plot we see the 10 most breed represented in our dataset, The golden retriever(>90) is the most represented."
   ]
  },
  {
   "cell_type": "code",
   "execution_count": 11,
   "metadata": {},
   "outputs": [
    {
     "data": {
      "text/plain": [
       "Text(0.5,1,'Average Ratings of the Top 10 Most Represented Dog Breed')"
      ]
     },
     "execution_count": 11,
     "metadata": {},
     "output_type": "execute_result"
    },
    {
     "data": {
      "image/png": "[encoded data removed]",
      "text/plain": [
       "<matplotlib.figure.Figure at 0x7f8b19530e10>"
      ]
     },
     "metadata": {
      "needs_background": "light"
     },
     "output_type": "display_data"
    }
   ],
   "source": [
    "rating_breed = df[df['breed'].isin(x_top)]\n",
    "rating_breed = rating_breed.groupby('breed')['rating_numerator'].mean()\n",
    "x_breed = rating_breed.index.tolist()\n",
    "\n",
    "plt.figure(figsize = (18, 5))\n",
    "plt.plot(x_breed, rating_breed)\n",
    "plt.title('Average Ratings of the Top 10 Most Represented Dog Breed')"
   ]
  },
  {
   "cell_type": "markdown",
   "metadata": {},
   "source": [
    "As seen with the stage average rating,The delta of the breed average rating is approximately 1.7."
   ]
  },
  {
   "cell_type": "markdown",
   "metadata": {},
   "source": [
    "### Most Favorited Tweet"
   ]
  },
  {
   "cell_type": "code",
   "execution_count": 35,
   "metadata": {},
   "outputs": [
    {
     "data": {
      "text/html": [
       "<div>\n",
       "<style scoped>\n",
       "    .dataframe tbody tr th:only-of-type {\n",
       "        vertical-align: middle;\n",
       "    }\n",
       "\n",
       "    .dataframe tbody tr th {\n",
       "        vertical-align: top;\n",
       "    }\n",
       "\n",
       "    .dataframe thead th {\n",
       "        text-align: right;\n",
       "    }\n",
       "</style>\n",
       "<table border=\"1\" class=\"dataframe\">\n",
       "  <thead>\n",
       "    <tr style=\"text-align: right;\">\n",
       "      <th></th>\n",
       "      <th>tweet_id</th>\n",
       "      <th>timestamp</th>\n",
       "      <th>source</th>\n",
       "      <th>text</th>\n",
       "      <th>expanded_urls</th>\n",
       "      <th>rating_numerator</th>\n",
       "      <th>rating_denominator</th>\n",
       "      <th>name</th>\n",
       "      <th>stage</th>\n",
       "      <th>confidence</th>\n",
       "      <th>breed</th>\n",
       "      <th>isdog?</th>\n",
       "      <th>favorite</th>\n",
       "      <th>retweet</th>\n",
       "    </tr>\n",
       "  </thead>\n",
       "  <tbody>\n",
       "    <tr>\n",
       "      <th>442</th>\n",
       "      <td>807106840509214720</td>\n",
       "      <td>2016-12-09 06:17:20</td>\n",
       "      <td>Twitter for iPhone</td>\n",
       "      <td>This is Stephan. He just wants to help. 13/10 ...</td>\n",
       "      <td>https://twitter.com/dog_rates/status/807106840...</td>\n",
       "      <td>13</td>\n",
       "      <td>10</td>\n",
       "      <td>Stephan</td>\n",
       "      <td>None</td>\n",
       "      <td>0.505370</td>\n",
       "      <td>Chihuahua</td>\n",
       "      <td>True</td>\n",
       "      <td>121191.0</td>\n",
       "      <td>57007.0</td>\n",
       "    </tr>\n",
       "    <tr>\n",
       "      <th>49</th>\n",
       "      <td>866450705531457537</td>\n",
       "      <td>2017-05-22 00:28:40</td>\n",
       "      <td>Twitter for iPhone</td>\n",
       "      <td>This is Jamesy. He gives a kiss to every other...</td>\n",
       "      <td>https://twitter.com/dog_rates/status/866450705...</td>\n",
       "      <td>13</td>\n",
       "      <td>10</td>\n",
       "      <td>Jamesy</td>\n",
       "      <td>pupper</td>\n",
       "      <td>0.905334</td>\n",
       "      <td>French Bulldog</td>\n",
       "      <td>True</td>\n",
       "      <td>116842.0</td>\n",
       "      <td>33093.0</td>\n",
       "    </tr>\n",
       "    <tr>\n",
       "      <th>216</th>\n",
       "      <td>879415818425184262</td>\n",
       "      <td>2017-06-26 19:07:24</td>\n",
       "      <td>Twitter for iPhone</td>\n",
       "      <td>This is Duddles. He did an attempt. 13/10 some...</td>\n",
       "      <td>https://twitter.com/dog_rates/status/879415818...</td>\n",
       "      <td>13</td>\n",
       "      <td>10</td>\n",
       "      <td>Duddles</td>\n",
       "      <td>None</td>\n",
       "      <td>0.383404</td>\n",
       "      <td>English Springer</td>\n",
       "      <td>True</td>\n",
       "      <td>99631.0</td>\n",
       "      <td>40752.0</td>\n",
       "    </tr>\n",
       "    <tr>\n",
       "      <th>19</th>\n",
       "      <td>819004803107983360</td>\n",
       "      <td>2017-01-11 02:15:36</td>\n",
       "      <td>Twitter for iPhone</td>\n",
       "      <td>This is Bo. He was a very good First Doggo. 14...</td>\n",
       "      <td>https://twitter.com/dog_rates/status/819004803...</td>\n",
       "      <td>14</td>\n",
       "      <td>10</td>\n",
       "      <td>Bo</td>\n",
       "      <td>doggo</td>\n",
       "      <td>0.351308</td>\n",
       "      <td>Standard Poodle</td>\n",
       "      <td>True</td>\n",
       "      <td>88435.0</td>\n",
       "      <td>37591.0</td>\n",
       "    </tr>\n",
       "    <tr>\n",
       "      <th>236</th>\n",
       "      <td>870374049280663552</td>\n",
       "      <td>2017-06-01 20:18:38</td>\n",
       "      <td>Twitter for iPhone</td>\n",
       "      <td>This is Zoey. She really likes the planet. Wou...</td>\n",
       "      <td>https://twitter.com/dog_rates/status/870374049...</td>\n",
       "      <td>13</td>\n",
       "      <td>10</td>\n",
       "      <td>Zoey</td>\n",
       "      <td>None</td>\n",
       "      <td>0.841001</td>\n",
       "      <td>Golden Retriever</td>\n",
       "      <td>True</td>\n",
       "      <td>78802.0</td>\n",
       "      <td>24626.0</td>\n",
       "    </tr>\n",
       "  </tbody>\n",
       "</table>\n",
       "</div>"
      ],
      "text/plain": [
       "               tweet_id            timestamp              source  \\\n",
       "442  807106840509214720  2016-12-09 06:17:20  Twitter for iPhone   \n",
       "49   866450705531457537  2017-05-22 00:28:40  Twitter for iPhone   \n",
       "216  879415818425184262  2017-06-26 19:07:24  Twitter for iPhone   \n",
       "19   819004803107983360  2017-01-11 02:15:36  Twitter for iPhone   \n",
       "236  870374049280663552  2017-06-01 20:18:38  Twitter for iPhone   \n",
       "\n",
       "                                                  text  \\\n",
       "442  This is Stephan. He just wants to help. 13/10 ...   \n",
       "49   This is Jamesy. He gives a kiss to every other...   \n",
       "216  This is Duddles. He did an attempt. 13/10 some...   \n",
       "19   This is Bo. He was a very good First Doggo. 14...   \n",
       "236  This is Zoey. She really likes the planet. Wou...   \n",
       "\n",
       "                                         expanded_urls  rating_numerator  \\\n",
       "442  https://twitter.com/dog_rates/status/807106840...                13   \n",
       "49   https://twitter.com/dog_rates/status/866450705...                13   \n",
       "216  https://twitter.com/dog_rates/status/879415818...                13   \n",
       "19   https://twitter.com/dog_rates/status/819004803...                14   \n",
       "236  https://twitter.com/dog_rates/status/870374049...                13   \n",
       "\n",
       "     rating_denominator     name   stage  confidence             breed  \\\n",
       "442                  10  Stephan    None    0.505370         Chihuahua   \n",
       "49                   10   Jamesy  pupper    0.905334    French Bulldog   \n",
       "216                  10  Duddles    None    0.383404  English Springer   \n",
       "19                   10       Bo   doggo    0.351308   Standard Poodle   \n",
       "236                  10     Zoey    None    0.841001  Golden Retriever   \n",
       "\n",
       "     isdog?  favorite  retweet  \n",
       "442    True  121191.0  57007.0  \n",
       "49     True  116842.0  33093.0  \n",
       "216    True   99631.0  40752.0  \n",
       "19     True   88435.0  37591.0  \n",
       "236    True   78802.0  24626.0  "
      ]
     },
     "execution_count": 35,
     "metadata": {},
     "output_type": "execute_result"
    }
   ],
   "source": [
    "fav_sort5 = df.sort_values(by = 'favorite', ascending = False).head(5)\n",
    "fav_sort5"
   ]
  },
  {
   "cell_type": "markdown",
   "metadata": {},
   "source": [
    "### Most Retweeted Tweet"
   ]
  },
  {
   "cell_type": "code",
   "execution_count": 36,
   "metadata": {},
   "outputs": [
    {
     "data": {
      "text/html": [
       "<div>\n",
       "<style scoped>\n",
       "    .dataframe tbody tr th:only-of-type {\n",
       "        vertical-align: middle;\n",
       "    }\n",
       "\n",
       "    .dataframe tbody tr th {\n",
       "        vertical-align: top;\n",
       "    }\n",
       "\n",
       "    .dataframe thead th {\n",
       "        text-align: right;\n",
       "    }\n",
       "</style>\n",
       "<table border=\"1\" class=\"dataframe\">\n",
       "  <thead>\n",
       "    <tr style=\"text-align: right;\">\n",
       "      <th></th>\n",
       "      <th>tweet_id</th>\n",
       "      <th>timestamp</th>\n",
       "      <th>source</th>\n",
       "      <th>text</th>\n",
       "      <th>expanded_urls</th>\n",
       "      <th>rating_numerator</th>\n",
       "      <th>rating_denominator</th>\n",
       "      <th>name</th>\n",
       "      <th>stage</th>\n",
       "      <th>confidence</th>\n",
       "      <th>breed</th>\n",
       "      <th>isdog?</th>\n",
       "      <th>favorite</th>\n",
       "      <th>retweet</th>\n",
       "    </tr>\n",
       "  </thead>\n",
       "  <tbody>\n",
       "    <tr>\n",
       "      <th>442</th>\n",
       "      <td>807106840509214720</td>\n",
       "      <td>2016-12-09 06:17:20</td>\n",
       "      <td>Twitter for iPhone</td>\n",
       "      <td>This is Stephan. He just wants to help. 13/10 ...</td>\n",
       "      <td>https://twitter.com/dog_rates/status/807106840...</td>\n",
       "      <td>13</td>\n",
       "      <td>10</td>\n",
       "      <td>Stephan</td>\n",
       "      <td>None</td>\n",
       "      <td>0.505370</td>\n",
       "      <td>Chihuahua</td>\n",
       "      <td>True</td>\n",
       "      <td>121191.0</td>\n",
       "      <td>57007.0</td>\n",
       "    </tr>\n",
       "    <tr>\n",
       "      <th>216</th>\n",
       "      <td>879415818425184262</td>\n",
       "      <td>2017-06-26 19:07:24</td>\n",
       "      <td>Twitter for iPhone</td>\n",
       "      <td>This is Duddles. He did an attempt. 13/10 some...</td>\n",
       "      <td>https://twitter.com/dog_rates/status/879415818...</td>\n",
       "      <td>13</td>\n",
       "      <td>10</td>\n",
       "      <td>Duddles</td>\n",
       "      <td>None</td>\n",
       "      <td>0.383404</td>\n",
       "      <td>English Springer</td>\n",
       "      <td>True</td>\n",
       "      <td>99631.0</td>\n",
       "      <td>40752.0</td>\n",
       "    </tr>\n",
       "    <tr>\n",
       "      <th>19</th>\n",
       "      <td>819004803107983360</td>\n",
       "      <td>2017-01-11 02:15:36</td>\n",
       "      <td>Twitter for iPhone</td>\n",
       "      <td>This is Bo. He was a very good First Doggo. 14...</td>\n",
       "      <td>https://twitter.com/dog_rates/status/819004803...</td>\n",
       "      <td>14</td>\n",
       "      <td>10</td>\n",
       "      <td>Bo</td>\n",
       "      <td>doggo</td>\n",
       "      <td>0.351308</td>\n",
       "      <td>Standard Poodle</td>\n",
       "      <td>True</td>\n",
       "      <td>88435.0</td>\n",
       "      <td>37591.0</td>\n",
       "    </tr>\n",
       "    <tr>\n",
       "      <th>49</th>\n",
       "      <td>866450705531457537</td>\n",
       "      <td>2017-05-22 00:28:40</td>\n",
       "      <td>Twitter for iPhone</td>\n",
       "      <td>This is Jamesy. He gives a kiss to every other...</td>\n",
       "      <td>https://twitter.com/dog_rates/status/866450705...</td>\n",
       "      <td>13</td>\n",
       "      <td>10</td>\n",
       "      <td>Jamesy</td>\n",
       "      <td>pupper</td>\n",
       "      <td>0.905334</td>\n",
       "      <td>French Bulldog</td>\n",
       "      <td>True</td>\n",
       "      <td>116842.0</td>\n",
       "      <td>33093.0</td>\n",
       "    </tr>\n",
       "    <tr>\n",
       "      <th>1081</th>\n",
       "      <td>676219687039057920</td>\n",
       "      <td>2015-12-14 01:58:31</td>\n",
       "      <td>Twitter for iPhone</td>\n",
       "      <td>This is Kenneth. He's stuck in a bubble. 10/10...</td>\n",
       "      <td>https://twitter.com/dog_rates/status/676219687...</td>\n",
       "      <td>10</td>\n",
       "      <td>10</td>\n",
       "      <td>Kenneth</td>\n",
       "      <td>None</td>\n",
       "      <td>0.997556</td>\n",
       "      <td>Bubble</td>\n",
       "      <td>False</td>\n",
       "      <td>75233.0</td>\n",
       "      <td>30526.0</td>\n",
       "    </tr>\n",
       "  </tbody>\n",
       "</table>\n",
       "</div>"
      ],
      "text/plain": [
       "                tweet_id            timestamp              source  \\\n",
       "442   807106840509214720  2016-12-09 06:17:20  Twitter for iPhone   \n",
       "216   879415818425184262  2017-06-26 19:07:24  Twitter for iPhone   \n",
       "19    819004803107983360  2017-01-11 02:15:36  Twitter for iPhone   \n",
       "49    866450705531457537  2017-05-22 00:28:40  Twitter for iPhone   \n",
       "1081  676219687039057920  2015-12-14 01:58:31  Twitter for iPhone   \n",
       "\n",
       "                                                   text  \\\n",
       "442   This is Stephan. He just wants to help. 13/10 ...   \n",
       "216   This is Duddles. He did an attempt. 13/10 some...   \n",
       "19    This is Bo. He was a very good First Doggo. 14...   \n",
       "49    This is Jamesy. He gives a kiss to every other...   \n",
       "1081  This is Kenneth. He's stuck in a bubble. 10/10...   \n",
       "\n",
       "                                          expanded_urls  rating_numerator  \\\n",
       "442   https://twitter.com/dog_rates/status/807106840...                13   \n",
       "216   https://twitter.com/dog_rates/status/879415818...                13   \n",
       "19    https://twitter.com/dog_rates/status/819004803...                14   \n",
       "49    https://twitter.com/dog_rates/status/866450705...                13   \n",
       "1081  https://twitter.com/dog_rates/status/676219687...                10   \n",
       "\n",
       "      rating_denominator     name   stage  confidence             breed  \\\n",
       "442                   10  Stephan    None    0.505370         Chihuahua   \n",
       "216                   10  Duddles    None    0.383404  English Springer   \n",
       "19                    10       Bo   doggo    0.351308   Standard Poodle   \n",
       "49                    10   Jamesy  pupper    0.905334    French Bulldog   \n",
       "1081                  10  Kenneth    None    0.997556            Bubble   \n",
       "\n",
       "      isdog?  favorite  retweet  \n",
       "442     True  121191.0  57007.0  \n",
       "216     True   99631.0  40752.0  \n",
       "19      True   88435.0  37591.0  \n",
       "49      True  116842.0  33093.0  \n",
       "1081   False   75233.0  30526.0  "
      ]
     },
     "execution_count": 36,
     "metadata": {},
     "output_type": "execute_result"
    }
   ],
   "source": [
    "rt_sort5 = df.sort_values(by = 'retweet', ascending = False).head(5)\n",
    "rt_sort5"
   ]
  },
  {
   "cell_type": "markdown",
   "metadata": {},
   "source": [
    "Visually we see that except for zoey the golden retriever , the top 5 is almost the same both of this variable seems at first sight correlated let's check this out :"
   ]
  },
  {
   "cell_type": "markdown",
   "metadata": {},
   "source": [
    "### Correlation between Favorite, Retweet & Rating"
   ]
  },
  {
   "cell_type": "markdown",
   "metadata": {},
   "source": [
    "First i'll remove the extra numerator (1776) ratings that skews the result to the left and doesn't allow us to appreciate ratings numerator."
   ]
  },
  {
   "cell_type": "code",
   "execution_count": 13,
   "metadata": {},
   "outputs": [
    {
     "data": {
      "text/plain": [
       "12      324\n",
       "11      303\n",
       "10      273\n",
       "13      172\n",
       "9       100\n",
       "8        70\n",
       "7        32\n",
       "14       17\n",
       "6        17\n",
       "5        14\n",
       "3        10\n",
       "4         5\n",
       "2         3\n",
       "1776      1\n",
       "Name: rating_numerator, dtype: int64"
      ]
     },
     "execution_count": 13,
     "metadata": {},
     "output_type": "execute_result"
    }
   ],
   "source": [
    "df['rating_numerator'].value_counts()"
   ]
  },
  {
   "cell_type": "code",
   "execution_count": 14,
   "metadata": {},
   "outputs": [],
   "source": [
    "df_plt = df.query(\"rating_numerator != 1776\")"
   ]
  },
  {
   "cell_type": "code",
   "execution_count": 17,
   "metadata": {},
   "outputs": [
    {
     "data": {
      "image/png": "[encoded data removed]",
      "text/plain": [
       "<matplotlib.figure.Figure at 0x7f8b18fddef0>"
      ]
     },
     "metadata": {
      "needs_background": "light"
     },
     "output_type": "display_data"
    }
   ],
   "source": [
    "plt.figure(figsize = (10, 5))\n",
    "cmap = plt.cm.get_cmap('rainbow')\n",
    "\n",
    "colours = df_plt['rating_numerator']\n",
    "\n",
    "plt.scatter(df_plt['favorite'], df_plt['retweet'], \n",
    "            c = colours, cmap = cmap)\n",
    "plt.xlabel('Favorite')\n",
    "plt.ylabel('Retweet')\n",
    "\n",
    "cbar = plt.colorbar()\n",
    "cbar.set_label('Rating_numerator')\n",
    "plt.title('Correlation between Favorite, Retweet & Ratings')\n",
    "plt.show()"
   ]
  },
  {
   "cell_type": "markdown",
   "metadata": {},
   "source": [
    "This plot show us the positive correlation between retweet and correlation.\n",
    "\n",
    "So the more likely a person who likes a tweet the more likely they are to retweet it.\n",
    "\n",
    "We roughly see that's the more a tweet have rt and fav the more is rating is good (red)\n",
    "\n",
    "On the 1341 tweet more than the half of them oscillates between 0 & 40000 favorites.\n",
    "\n",
    "Finnaly on this plot we clearly see that retweet have a higher value for the user, their distribution is only half as important as the favorites."
   ]
  }
 ],
 "metadata": {
  "kernelspec": {
   "display_name": "Python 3",
   "language": "python",
   "name": "python3"
  },
  "language_info": {
   "codemirror_mode": {
    "name": "ipython",
    "version": 3
   },
   "file_extension": ".py",
   "mimetype": "text/x-python",
   "name": "python",
   "nbconvert_exporter": "python",
   "pygments_lexer": "ipython3",
   "version": "3.6.3"
  }
 },
 "nbformat": 4,
 "nbformat_minor": 2
}
